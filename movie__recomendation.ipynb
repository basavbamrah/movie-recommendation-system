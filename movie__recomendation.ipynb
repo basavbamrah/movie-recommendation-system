{
  "cells": [
    {
      "cell_type": "code",
      "execution_count": 1,
      "metadata": {
        "colab": {
          "base_uri": "https://localhost:8080/"
        },
        "id": "Da00uTJYIAiE",
        "outputId": "d4d59304-388b-4234-8416-ba0bb4b94a32"
      },
      "outputs": [],
      "source": [
        "# from google.colab import drive\n",
        "# drive.mount('/content/drive')"
      ]
    },
    {
      "cell_type": "code",
      "execution_count": 2,
      "metadata": {
        "id": "dF9doohHI3oi"
      },
      "outputs": [],
      "source": [
        "import pandas as pd\n",
        "import numpy as np\n",
        "import csv"
      ]
    },
    {
      "cell_type": "code",
      "execution_count": 3,
      "metadata": {
        "id": "vM-aNvkNKEVm"
      },
      "outputs": [],
      "source": [
        "movies=pd.read_csv(\"./tmdb_5000_movies.csv\")"
      ]
    },
    {
      "cell_type": "code",
      "execution_count": 4,
      "metadata": {
        "colab": {
          "base_uri": "https://localhost:8080/",
          "height": 774
        },
        "id": "sqWJbSIQKjPh",
        "outputId": "aba12184-310a-417e-fbb0-d7f39d2bc52d"
      },
      "outputs": [
        {
          "data": {
            "text/html": [
              "<div>\n",
              "<style scoped>\n",
              "    .dataframe tbody tr th:only-of-type {\n",
              "        vertical-align: middle;\n",
              "    }\n",
              "\n",
              "    .dataframe tbody tr th {\n",
              "        vertical-align: top;\n",
              "    }\n",
              "\n",
              "    .dataframe thead th {\n",
              "        text-align: right;\n",
              "    }\n",
              "</style>\n",
              "<table border=\"1\" class=\"dataframe\">\n",
              "  <thead>\n",
              "    <tr style=\"text-align: right;\">\n",
              "      <th></th>\n",
              "      <th>budget</th>\n",
              "      <th>genres</th>\n",
              "      <th>homepage</th>\n",
              "      <th>id</th>\n",
              "      <th>keywords</th>\n",
              "      <th>original_language</th>\n",
              "      <th>original_title</th>\n",
              "      <th>overview</th>\n",
              "      <th>popularity</th>\n",
              "      <th>production_companies</th>\n",
              "      <th>production_countries</th>\n",
              "      <th>release_date</th>\n",
              "      <th>revenue</th>\n",
              "      <th>runtime</th>\n",
              "      <th>spoken_languages</th>\n",
              "      <th>status</th>\n",
              "      <th>tagline</th>\n",
              "      <th>title</th>\n",
              "      <th>vote_average</th>\n",
              "      <th>vote_count</th>\n",
              "    </tr>\n",
              "  </thead>\n",
              "  <tbody>\n",
              "    <tr>\n",
              "      <th>0</th>\n",
              "      <td>237000000</td>\n",
              "      <td>[{\"id\": 28, \"name\": \"Action\"}, {\"id\": 12, \"nam...</td>\n",
              "      <td>http://www.avatarmovie.com/</td>\n",
              "      <td>19995</td>\n",
              "      <td>[{\"id\": 1463, \"name\": \"culture clash\"}, {\"id\":...</td>\n",
              "      <td>en</td>\n",
              "      <td>Avatar</td>\n",
              "      <td>In the 22nd century, a paraplegic Marine is di...</td>\n",
              "      <td>150.437577</td>\n",
              "      <td>[{\"name\": \"Ingenious Film Partners\", \"id\": 289...</td>\n",
              "      <td>[{\"iso_3166_1\": \"US\", \"name\": \"United States o...</td>\n",
              "      <td>2009-12-10</td>\n",
              "      <td>2787965087</td>\n",
              "      <td>162.0</td>\n",
              "      <td>[{\"iso_639_1\": \"en\", \"name\": \"English\"}, {\"iso...</td>\n",
              "      <td>Released</td>\n",
              "      <td>Enter the World of Pandora.</td>\n",
              "      <td>Avatar</td>\n",
              "      <td>7.2</td>\n",
              "      <td>11800</td>\n",
              "    </tr>\n",
              "    <tr>\n",
              "      <th>1</th>\n",
              "      <td>300000000</td>\n",
              "      <td>[{\"id\": 12, \"name\": \"Adventure\"}, {\"id\": 14, \"...</td>\n",
              "      <td>http://disney.go.com/disneypictures/pirates/</td>\n",
              "      <td>285</td>\n",
              "      <td>[{\"id\": 270, \"name\": \"ocean\"}, {\"id\": 726, \"na...</td>\n",
              "      <td>en</td>\n",
              "      <td>Pirates of the Caribbean: At World's End</td>\n",
              "      <td>Captain Barbossa, long believed to be dead, ha...</td>\n",
              "      <td>139.082615</td>\n",
              "      <td>[{\"name\": \"Walt Disney Pictures\", \"id\": 2}, {\"...</td>\n",
              "      <td>[{\"iso_3166_1\": \"US\", \"name\": \"United States o...</td>\n",
              "      <td>2007-05-19</td>\n",
              "      <td>961000000</td>\n",
              "      <td>169.0</td>\n",
              "      <td>[{\"iso_639_1\": \"en\", \"name\": \"English\"}]</td>\n",
              "      <td>Released</td>\n",
              "      <td>At the end of the world, the adventure begins.</td>\n",
              "      <td>Pirates of the Caribbean: At World's End</td>\n",
              "      <td>6.9</td>\n",
              "      <td>4500</td>\n",
              "    </tr>\n",
              "    <tr>\n",
              "      <th>2</th>\n",
              "      <td>245000000</td>\n",
              "      <td>[{\"id\": 28, \"name\": \"Action\"}, {\"id\": 12, \"nam...</td>\n",
              "      <td>http://www.sonypictures.com/movies/spectre/</td>\n",
              "      <td>206647</td>\n",
              "      <td>[{\"id\": 470, \"name\": \"spy\"}, {\"id\": 818, \"name...</td>\n",
              "      <td>en</td>\n",
              "      <td>Spectre</td>\n",
              "      <td>A cryptic message from Bond’s past sends him o...</td>\n",
              "      <td>107.376788</td>\n",
              "      <td>[{\"name\": \"Columbia Pictures\", \"id\": 5}, {\"nam...</td>\n",
              "      <td>[{\"iso_3166_1\": \"GB\", \"name\": \"United Kingdom\"...</td>\n",
              "      <td>2015-10-26</td>\n",
              "      <td>880674609</td>\n",
              "      <td>148.0</td>\n",
              "      <td>[{\"iso_639_1\": \"fr\", \"name\": \"Fran\\u00e7ais\"},...</td>\n",
              "      <td>Released</td>\n",
              "      <td>A Plan No One Escapes</td>\n",
              "      <td>Spectre</td>\n",
              "      <td>6.3</td>\n",
              "      <td>4466</td>\n",
              "    </tr>\n",
              "    <tr>\n",
              "      <th>3</th>\n",
              "      <td>250000000</td>\n",
              "      <td>[{\"id\": 28, \"name\": \"Action\"}, {\"id\": 80, \"nam...</td>\n",
              "      <td>http://www.thedarkknightrises.com/</td>\n",
              "      <td>49026</td>\n",
              "      <td>[{\"id\": 849, \"name\": \"dc comics\"}, {\"id\": 853,...</td>\n",
              "      <td>en</td>\n",
              "      <td>The Dark Knight Rises</td>\n",
              "      <td>Following the death of District Attorney Harve...</td>\n",
              "      <td>112.312950</td>\n",
              "      <td>[{\"name\": \"Legendary Pictures\", \"id\": 923}, {\"...</td>\n",
              "      <td>[{\"iso_3166_1\": \"US\", \"name\": \"United States o...</td>\n",
              "      <td>2012-07-16</td>\n",
              "      <td>1084939099</td>\n",
              "      <td>165.0</td>\n",
              "      <td>[{\"iso_639_1\": \"en\", \"name\": \"English\"}]</td>\n",
              "      <td>Released</td>\n",
              "      <td>The Legend Ends</td>\n",
              "      <td>The Dark Knight Rises</td>\n",
              "      <td>7.6</td>\n",
              "      <td>9106</td>\n",
              "    </tr>\n",
              "    <tr>\n",
              "      <th>4</th>\n",
              "      <td>260000000</td>\n",
              "      <td>[{\"id\": 28, \"name\": \"Action\"}, {\"id\": 12, \"nam...</td>\n",
              "      <td>http://movies.disney.com/john-carter</td>\n",
              "      <td>49529</td>\n",
              "      <td>[{\"id\": 818, \"name\": \"based on novel\"}, {\"id\":...</td>\n",
              "      <td>en</td>\n",
              "      <td>John Carter</td>\n",
              "      <td>John Carter is a war-weary, former military ca...</td>\n",
              "      <td>43.926995</td>\n",
              "      <td>[{\"name\": \"Walt Disney Pictures\", \"id\": 2}]</td>\n",
              "      <td>[{\"iso_3166_1\": \"US\", \"name\": \"United States o...</td>\n",
              "      <td>2012-03-07</td>\n",
              "      <td>284139100</td>\n",
              "      <td>132.0</td>\n",
              "      <td>[{\"iso_639_1\": \"en\", \"name\": \"English\"}]</td>\n",
              "      <td>Released</td>\n",
              "      <td>Lost in our world, found in another.</td>\n",
              "      <td>John Carter</td>\n",
              "      <td>6.1</td>\n",
              "      <td>2124</td>\n",
              "    </tr>\n",
              "  </tbody>\n",
              "</table>\n",
              "</div>"
            ],
            "text/plain": [
              "      budget                                             genres  \\\n",
              "0  237000000  [{\"id\": 28, \"name\": \"Action\"}, {\"id\": 12, \"nam...   \n",
              "1  300000000  [{\"id\": 12, \"name\": \"Adventure\"}, {\"id\": 14, \"...   \n",
              "2  245000000  [{\"id\": 28, \"name\": \"Action\"}, {\"id\": 12, \"nam...   \n",
              "3  250000000  [{\"id\": 28, \"name\": \"Action\"}, {\"id\": 80, \"nam...   \n",
              "4  260000000  [{\"id\": 28, \"name\": \"Action\"}, {\"id\": 12, \"nam...   \n",
              "\n",
              "                                       homepage      id  \\\n",
              "0                   http://www.avatarmovie.com/   19995   \n",
              "1  http://disney.go.com/disneypictures/pirates/     285   \n",
              "2   http://www.sonypictures.com/movies/spectre/  206647   \n",
              "3            http://www.thedarkknightrises.com/   49026   \n",
              "4          http://movies.disney.com/john-carter   49529   \n",
              "\n",
              "                                            keywords original_language  \\\n",
              "0  [{\"id\": 1463, \"name\": \"culture clash\"}, {\"id\":...                en   \n",
              "1  [{\"id\": 270, \"name\": \"ocean\"}, {\"id\": 726, \"na...                en   \n",
              "2  [{\"id\": 470, \"name\": \"spy\"}, {\"id\": 818, \"name...                en   \n",
              "3  [{\"id\": 849, \"name\": \"dc comics\"}, {\"id\": 853,...                en   \n",
              "4  [{\"id\": 818, \"name\": \"based on novel\"}, {\"id\":...                en   \n",
              "\n",
              "                             original_title  \\\n",
              "0                                    Avatar   \n",
              "1  Pirates of the Caribbean: At World's End   \n",
              "2                                   Spectre   \n",
              "3                     The Dark Knight Rises   \n",
              "4                               John Carter   \n",
              "\n",
              "                                            overview  popularity  \\\n",
              "0  In the 22nd century, a paraplegic Marine is di...  150.437577   \n",
              "1  Captain Barbossa, long believed to be dead, ha...  139.082615   \n",
              "2  A cryptic message from Bond’s past sends him o...  107.376788   \n",
              "3  Following the death of District Attorney Harve...  112.312950   \n",
              "4  John Carter is a war-weary, former military ca...   43.926995   \n",
              "\n",
              "                                production_companies  \\\n",
              "0  [{\"name\": \"Ingenious Film Partners\", \"id\": 289...   \n",
              "1  [{\"name\": \"Walt Disney Pictures\", \"id\": 2}, {\"...   \n",
              "2  [{\"name\": \"Columbia Pictures\", \"id\": 5}, {\"nam...   \n",
              "3  [{\"name\": \"Legendary Pictures\", \"id\": 923}, {\"...   \n",
              "4        [{\"name\": \"Walt Disney Pictures\", \"id\": 2}]   \n",
              "\n",
              "                                production_countries release_date     revenue  \\\n",
              "0  [{\"iso_3166_1\": \"US\", \"name\": \"United States o...   2009-12-10  2787965087   \n",
              "1  [{\"iso_3166_1\": \"US\", \"name\": \"United States o...   2007-05-19   961000000   \n",
              "2  [{\"iso_3166_1\": \"GB\", \"name\": \"United Kingdom\"...   2015-10-26   880674609   \n",
              "3  [{\"iso_3166_1\": \"US\", \"name\": \"United States o...   2012-07-16  1084939099   \n",
              "4  [{\"iso_3166_1\": \"US\", \"name\": \"United States o...   2012-03-07   284139100   \n",
              "\n",
              "   runtime                                   spoken_languages    status  \\\n",
              "0    162.0  [{\"iso_639_1\": \"en\", \"name\": \"English\"}, {\"iso...  Released   \n",
              "1    169.0           [{\"iso_639_1\": \"en\", \"name\": \"English\"}]  Released   \n",
              "2    148.0  [{\"iso_639_1\": \"fr\", \"name\": \"Fran\\u00e7ais\"},...  Released   \n",
              "3    165.0           [{\"iso_639_1\": \"en\", \"name\": \"English\"}]  Released   \n",
              "4    132.0           [{\"iso_639_1\": \"en\", \"name\": \"English\"}]  Released   \n",
              "\n",
              "                                          tagline  \\\n",
              "0                     Enter the World of Pandora.   \n",
              "1  At the end of the world, the adventure begins.   \n",
              "2                           A Plan No One Escapes   \n",
              "3                                 The Legend Ends   \n",
              "4            Lost in our world, found in another.   \n",
              "\n",
              "                                      title  vote_average  vote_count  \n",
              "0                                    Avatar           7.2       11800  \n",
              "1  Pirates of the Caribbean: At World's End           6.9        4500  \n",
              "2                                   Spectre           6.3        4466  \n",
              "3                     The Dark Knight Rises           7.6        9106  \n",
              "4                               John Carter           6.1        2124  "
            ]
          },
          "execution_count": 4,
          "metadata": {},
          "output_type": "execute_result"
        }
      ],
      "source": [
        "movies.head()"
      ]
    },
    {
      "cell_type": "code",
      "execution_count": 5,
      "metadata": {
        "colab": {
          "base_uri": "https://localhost:8080/",
          "height": 140
        },
        "id": "q49Ve5p-Kylm",
        "outputId": "c3996dae-38dd-4efc-ea2a-eb3ab4fa0edb"
      },
      "outputs": [
        {
          "data": {
            "text/plain": [
              "'[{\"id\": 1463, \"name\": \"culture clash\"}, {\"id\": 2964, \"name\": \"future\"}, {\"id\": 3386, \"name\": \"space war\"}, {\"id\": 3388, \"name\": \"space colony\"}, {\"id\": 3679, \"name\": \"society\"}, {\"id\": 3801, \"name\": \"space travel\"}, {\"id\": 9685, \"name\": \"futuristic\"}, {\"id\": 9840, \"name\": \"romance\"}, {\"id\": 9882, \"name\": \"space\"}, {\"id\": 9951, \"name\": \"alien\"}, {\"id\": 10148, \"name\": \"tribe\"}, {\"id\": 10158, \"name\": \"alien planet\"}, {\"id\": 10987, \"name\": \"cgi\"}, {\"id\": 11399, \"name\": \"marine\"}, {\"id\": 13065, \"name\": \"soldier\"}, {\"id\": 14643, \"name\": \"battle\"}, {\"id\": 14720, \"name\": \"love affair\"}, {\"id\": 165431, \"name\": \"anti war\"}, {\"id\": 193554, \"name\": \"power relations\"}, {\"id\": 206690, \"name\": \"mind and soul\"}, {\"id\": 209714, \"name\": \"3d\"}]'"
            ]
          },
          "execution_count": 5,
          "metadata": {},
          "output_type": "execute_result"
        }
      ],
      "source": [
        "movies[\"keywords\"][0]"
      ]
    },
    {
      "cell_type": "code",
      "execution_count": 6,
      "metadata": {
        "colab": {
          "base_uri": "https://localhost:8080/",
          "height": 35
        },
        "id": "HE03i-S-Li7C",
        "outputId": "bd3b564b-a935-400b-c013-7cb8a85d1cb9"
      },
      "outputs": [
        {
          "data": {
            "text/plain": [
              "'Enter the World of Pandora.'"
            ]
          },
          "execution_count": 6,
          "metadata": {},
          "output_type": "execute_result"
        }
      ],
      "source": [
        "movies[\"tagline\"][0]"
      ]
    },
    {
      "cell_type": "code",
      "execution_count": 7,
      "metadata": {
        "colab": {
          "base_uri": "https://localhost:8080/",
          "height": 53
        },
        "id": "PwSQ6L06PyzR",
        "outputId": "b6615383-fe8c-408b-ebb0-68a28ff4ee01"
      },
      "outputs": [
        {
          "data": {
            "text/plain": [
              "'In the 22nd century, a paraplegic Marine is dispatched to the moon Pandora on a unique mission, but becomes torn between following orders and protecting an alien civilization.'"
            ]
          },
          "execution_count": 7,
          "metadata": {},
          "output_type": "execute_result"
        }
      ],
      "source": [
        "movies[\"overview\"][0]"
      ]
    },
    {
      "cell_type": "code",
      "execution_count": 9,
      "metadata": {
        "id": "mQeKD7ycMUfZ"
      },
      "outputs": [],
      "source": [
        "df2=pd.read_csv(\"./tmdb_5000_credits.csv\")"
      ]
    },
    {
      "cell_type": "code",
      "execution_count": 10,
      "metadata": {
        "colab": {
          "base_uri": "https://localhost:8080/",
          "height": 337
        },
        "id": "m3MKNwj0-ify",
        "outputId": "fe430350-2a99-4af7-c1bc-5854fddc84ac"
      },
      "outputs": [
        {
          "data": {
            "text/html": [
              "<div>\n",
              "<style scoped>\n",
              "    .dataframe tbody tr th:only-of-type {\n",
              "        vertical-align: middle;\n",
              "    }\n",
              "\n",
              "    .dataframe tbody tr th {\n",
              "        vertical-align: top;\n",
              "    }\n",
              "\n",
              "    .dataframe thead th {\n",
              "        text-align: right;\n",
              "    }\n",
              "</style>\n",
              "<table border=\"1\" class=\"dataframe\">\n",
              "  <thead>\n",
              "    <tr style=\"text-align: right;\">\n",
              "      <th></th>\n",
              "      <th>movie_id</th>\n",
              "      <th>title</th>\n",
              "      <th>cast</th>\n",
              "      <th>crew</th>\n",
              "    </tr>\n",
              "  </thead>\n",
              "  <tbody>\n",
              "    <tr>\n",
              "      <th>0</th>\n",
              "      <td>19995</td>\n",
              "      <td>Avatar</td>\n",
              "      <td>[{\"cast_id\": 242, \"character\": \"Jake Sully\", \"...</td>\n",
              "      <td>[{\"credit_id\": \"52fe48009251416c750aca23\", \"de...</td>\n",
              "    </tr>\n",
              "    <tr>\n",
              "      <th>1</th>\n",
              "      <td>285</td>\n",
              "      <td>Pirates of the Caribbean: At World's End</td>\n",
              "      <td>[{\"cast_id\": 4, \"character\": \"Captain Jack Spa...</td>\n",
              "      <td>[{\"credit_id\": \"52fe4232c3a36847f800b579\", \"de...</td>\n",
              "    </tr>\n",
              "    <tr>\n",
              "      <th>2</th>\n",
              "      <td>206647</td>\n",
              "      <td>Spectre</td>\n",
              "      <td>[{\"cast_id\": 1, \"character\": \"James Bond\", \"cr...</td>\n",
              "      <td>[{\"credit_id\": \"54805967c3a36829b5002c41\", \"de...</td>\n",
              "    </tr>\n",
              "    <tr>\n",
              "      <th>3</th>\n",
              "      <td>49026</td>\n",
              "      <td>The Dark Knight Rises</td>\n",
              "      <td>[{\"cast_id\": 2, \"character\": \"Bruce Wayne / Ba...</td>\n",
              "      <td>[{\"credit_id\": \"52fe4781c3a36847f81398c3\", \"de...</td>\n",
              "    </tr>\n",
              "    <tr>\n",
              "      <th>4</th>\n",
              "      <td>49529</td>\n",
              "      <td>John Carter</td>\n",
              "      <td>[{\"cast_id\": 5, \"character\": \"John Carter\", \"c...</td>\n",
              "      <td>[{\"credit_id\": \"52fe479ac3a36847f813eaa3\", \"de...</td>\n",
              "    </tr>\n",
              "  </tbody>\n",
              "</table>\n",
              "</div>"
            ],
            "text/plain": [
              "   movie_id                                     title  \\\n",
              "0     19995                                    Avatar   \n",
              "1       285  Pirates of the Caribbean: At World's End   \n",
              "2    206647                                   Spectre   \n",
              "3     49026                     The Dark Knight Rises   \n",
              "4     49529                               John Carter   \n",
              "\n",
              "                                                cast  \\\n",
              "0  [{\"cast_id\": 242, \"character\": \"Jake Sully\", \"...   \n",
              "1  [{\"cast_id\": 4, \"character\": \"Captain Jack Spa...   \n",
              "2  [{\"cast_id\": 1, \"character\": \"James Bond\", \"cr...   \n",
              "3  [{\"cast_id\": 2, \"character\": \"Bruce Wayne / Ba...   \n",
              "4  [{\"cast_id\": 5, \"character\": \"John Carter\", \"c...   \n",
              "\n",
              "                                                crew  \n",
              "0  [{\"credit_id\": \"52fe48009251416c750aca23\", \"de...  \n",
              "1  [{\"credit_id\": \"52fe4232c3a36847f800b579\", \"de...  \n",
              "2  [{\"credit_id\": \"54805967c3a36829b5002c41\", \"de...  \n",
              "3  [{\"credit_id\": \"52fe4781c3a36847f81398c3\", \"de...  \n",
              "4  [{\"credit_id\": \"52fe479ac3a36847f813eaa3\", \"de...  "
            ]
          },
          "execution_count": 10,
          "metadata": {},
          "output_type": "execute_result"
        }
      ],
      "source": [
        "df2.head()"
      ]
    },
    {
      "cell_type": "code",
      "execution_count": 11,
      "metadata": {
        "colab": {
          "base_uri": "https://localhost:8080/"
        },
        "id": "bcWCWRsO-n92",
        "outputId": "a1bfac3f-08c4-4ca5-de07-f29ad29867d9"
      },
      "outputs": [
        {
          "data": {
            "text/plain": [
              "0       [{\"cast_id\": 242, \"character\": \"Jake Sully\", \"...\n",
              "1       [{\"cast_id\": 4, \"character\": \"Captain Jack Spa...\n",
              "2       [{\"cast_id\": 1, \"character\": \"James Bond\", \"cr...\n",
              "3       [{\"cast_id\": 2, \"character\": \"Bruce Wayne / Ba...\n",
              "4       [{\"cast_id\": 5, \"character\": \"John Carter\", \"c...\n",
              "                              ...                        \n",
              "4798    [{\"cast_id\": 1, \"character\": \"El Mariachi\", \"c...\n",
              "4799    [{\"cast_id\": 1, \"character\": \"Buzzy\", \"credit_...\n",
              "4800    [{\"cast_id\": 8, \"character\": \"Oliver O\\u2019To...\n",
              "4801    [{\"cast_id\": 3, \"character\": \"Sam\", \"credit_id...\n",
              "4802    [{\"cast_id\": 3, \"character\": \"Herself\", \"credi...\n",
              "Name: cast, Length: 4803, dtype: object"
            ]
          },
          "execution_count": 11,
          "metadata": {},
          "output_type": "execute_result"
        }
      ],
      "source": [
        "df2[\"cast\"]"
      ]
    },
    {
      "cell_type": "markdown",
      "metadata": {
        "id": "oG42S-PcKOGT"
      },
      "source": [
        "**Merging two csv file on the basic of common feature that is \"TITLE\"**"
      ]
    },
    {
      "cell_type": "code",
      "execution_count": 12,
      "metadata": {
        "id": "_d59C3rH-uUX"
      },
      "outputs": [],
      "source": [
        "movies=movies.merge(df2,on=\"title\")"
      ]
    },
    {
      "cell_type": "code",
      "execution_count": 13,
      "metadata": {
        "colab": {
          "base_uri": "https://localhost:8080/"
        },
        "id": "B6PPdF0rKaSg",
        "outputId": "2a228593-5286-4697-cc06-81442b98d1bb"
      },
      "outputs": [
        {
          "name": "stdout",
          "output_type": "stream",
          "text": [
            "<class 'pandas.core.frame.DataFrame'>\n",
            "Int64Index: 4809 entries, 0 to 4808\n",
            "Data columns (total 23 columns):\n",
            " #   Column                Non-Null Count  Dtype  \n",
            "---  ------                --------------  -----  \n",
            " 0   budget                4809 non-null   int64  \n",
            " 1   genres                4809 non-null   object \n",
            " 2   homepage              1713 non-null   object \n",
            " 3   id                    4809 non-null   int64  \n",
            " 4   keywords              4809 non-null   object \n",
            " 5   original_language     4809 non-null   object \n",
            " 6   original_title        4809 non-null   object \n",
            " 7   overview              4806 non-null   object \n",
            " 8   popularity            4809 non-null   float64\n",
            " 9   production_companies  4809 non-null   object \n",
            " 10  production_countries  4809 non-null   object \n",
            " 11  release_date          4808 non-null   object \n",
            " 12  revenue               4809 non-null   int64  \n",
            " 13  runtime               4807 non-null   float64\n",
            " 14  spoken_languages      4809 non-null   object \n",
            " 15  status                4809 non-null   object \n",
            " 16  tagline               3965 non-null   object \n",
            " 17  title                 4809 non-null   object \n",
            " 18  vote_average          4809 non-null   float64\n",
            " 19  vote_count            4809 non-null   int64  \n",
            " 20  movie_id              4809 non-null   int64  \n",
            " 21  cast                  4809 non-null   object \n",
            " 22  crew                  4809 non-null   object \n",
            "dtypes: float64(3), int64(5), object(15)\n",
            "memory usage: 901.7+ KB\n"
          ]
        }
      ],
      "source": [
        "movies.info()"
      ]
    },
    {
      "cell_type": "code",
      "execution_count": 14,
      "metadata": {
        "id": "JGYCeO1X-8Sf"
      },
      "outputs": [],
      "source": [
        "# extract hero names and director name from credit csv"
      ]
    },
    {
      "cell_type": "markdown",
      "metadata": {
        "id": "0NK7ap4ZLYRN"
      },
      "source": [
        "#convert list of string to proper list with finding name"
      ]
    },
    {
      "cell_type": "code",
      "execution_count": 15,
      "metadata": {
        "id": "DpCnaLC6Bz5m"
      },
      "outputs": [],
      "source": [
        "import ast\n",
        "def str_list(x):\n",
        "  x=ast.literal_eval(x)\n",
        "  l=[]\n",
        "  for item in x:\n",
        "\n",
        "    l.append(item['name'])\n",
        "  \n",
        "  return l\n",
        "    \n",
        "\n",
        "\n"
      ]
    },
    {
      "cell_type": "code",
      "execution_count": 16,
      "metadata": {
        "id": "sERbVjobE7kP"
      },
      "outputs": [],
      "source": [
        "movies[\"cast\"]=movies[\"cast\"].apply(str_list)"
      ]
    },
    {
      "cell_type": "markdown",
      "metadata": {
        "id": "txJquitELK9s"
      },
      "source": [
        "## converting string of list to list with finding directors name as well"
      ]
    },
    {
      "cell_type": "code",
      "execution_count": 17,
      "metadata": {
        "id": "JCCLBbLfFhKI"
      },
      "outputs": [],
      "source": [
        "import ast\n",
        "def str2_list(x):\n",
        "  x=ast.literal_eval(x)\n",
        "  l=[]\n",
        "  for item in x:\n",
        "    if item['job']==\"Director\":\n",
        "      l.append(item['name'])\n",
        "  \n",
        "  return l"
      ]
    },
    {
      "cell_type": "code",
      "execution_count": 18,
      "metadata": {
        "id": "J9HHwK_XGpFl"
      },
      "outputs": [],
      "source": [
        "movies[\"crew\"]=movies[\"crew\"].apply(str2_list)"
      ]
    },
    {
      "cell_type": "code",
      "execution_count": 19,
      "metadata": {
        "colab": {
          "base_uri": "https://localhost:8080/"
        },
        "id": "LfnVfejjHlO6",
        "outputId": "df2ca8b0-9c73-4067-b981-064d71ec2004"
      },
      "outputs": [
        {
          "data": {
            "text/plain": [
              "0       [Sam Worthington, Zoe Saldana, Sigourney Weave...\n",
              "1       [Johnny Depp, Orlando Bloom, Keira Knightley, ...\n",
              "2       [Daniel Craig, Christoph Waltz, Léa Seydoux, R...\n",
              "3       [Christian Bale, Michael Caine, Gary Oldman, A...\n",
              "4       [Taylor Kitsch, Lynn Collins, Samantha Morton,...\n",
              "                              ...                        \n",
              "4804    [Carlos Gallardo, Jaime de Hoyos, Peter Marqua...\n",
              "4805    [Edward Burns, Kerry Bishé, Marsha Dietlein, C...\n",
              "4806    [Eric Mabius, Kristin Booth, Crystal Lowe, Geo...\n",
              "4807    [Daniel Henney, Eliza Coupe, Bill Paxton, Alan...\n",
              "4808    [Drew Barrymore, Brian Herzlinger, Corey Feldm...\n",
              "Name: cast, Length: 4809, dtype: object"
            ]
          },
          "execution_count": 19,
          "metadata": {},
          "output_type": "execute_result"
        }
      ],
      "source": [
        "movies[\"cast\"]"
      ]
    },
    {
      "cell_type": "code",
      "execution_count": 20,
      "metadata": {
        "colab": {
          "base_uri": "https://localhost:8080/"
        },
        "id": "rj-PfP-kJMpe",
        "outputId": "e50f8409-690b-4e66-d58d-1b070bb49cf0"
      },
      "outputs": [
        {
          "data": {
            "text/plain": [
              "0                                [James Cameron]\n",
              "1                               [Gore Verbinski]\n",
              "2                                   [Sam Mendes]\n",
              "3                            [Christopher Nolan]\n",
              "4                               [Andrew Stanton]\n",
              "                          ...                   \n",
              "4804                          [Robert Rodriguez]\n",
              "4805                              [Edward Burns]\n",
              "4806                               [Scott Smith]\n",
              "4807                               [Daniel Hsia]\n",
              "4808    [Brian Herzlinger, Jon Gunn, Brett Winn]\n",
              "Name: crew, Length: 4809, dtype: object"
            ]
          },
          "execution_count": 20,
          "metadata": {},
          "output_type": "execute_result"
        }
      ],
      "source": [
        "movies[\"crew\"]"
      ]
    },
    {
      "cell_type": "code",
      "execution_count": 21,
      "metadata": {
        "id": "vqshsQCMPeOQ"
      },
      "outputs": [],
      "source": [
        "movies[\"genres\"]=movies['genres'].apply(str_list)\n",
        "movies[\"keywords\"]=movies['keywords'].apply(str_list)"
      ]
    },
    {
      "cell_type": "code",
      "execution_count": 22,
      "metadata": {
        "id": "ffRMv5YaJudU"
      },
      "outputs": [],
      "source": [
        "# finding NA values "
      ]
    },
    {
      "cell_type": "code",
      "execution_count": 23,
      "metadata": {
        "colab": {
          "base_uri": "https://localhost:8080/"
        },
        "id": "VlJVuIlANESr",
        "outputId": "164d7bc5-d420-46c5-896c-1715ceb73fdd"
      },
      "outputs": [
        {
          "data": {
            "text/plain": [
              "budget                     0\n",
              "genres                     0\n",
              "homepage                3096\n",
              "id                         0\n",
              "keywords                   0\n",
              "original_language          0\n",
              "original_title             0\n",
              "overview                   3\n",
              "popularity                 0\n",
              "production_companies       0\n",
              "production_countries       0\n",
              "release_date               1\n",
              "revenue                    0\n",
              "runtime                    2\n",
              "spoken_languages           0\n",
              "status                     0\n",
              "tagline                  844\n",
              "title                      0\n",
              "vote_average               0\n",
              "vote_count                 0\n",
              "movie_id                   0\n",
              "cast                       0\n",
              "crew                       0\n",
              "dtype: int64"
            ]
          },
          "execution_count": 23,
          "metadata": {},
          "output_type": "execute_result"
        }
      ],
      "source": [
        "movies.isna().sum()"
      ]
    },
    {
      "cell_type": "code",
      "execution_count": 24,
      "metadata": {
        "colab": {
          "base_uri": "https://localhost:8080/",
          "height": 768
        },
        "id": "gr9wZWciQ7Dd",
        "outputId": "591e814f-0e6c-4e55-93a1-dd96210b7732"
      },
      "outputs": [
        {
          "data": {
            "text/html": [
              "<div>\n",
              "<style scoped>\n",
              "    .dataframe tbody tr th:only-of-type {\n",
              "        vertical-align: middle;\n",
              "    }\n",
              "\n",
              "    .dataframe tbody tr th {\n",
              "        vertical-align: top;\n",
              "    }\n",
              "\n",
              "    .dataframe thead th {\n",
              "        text-align: right;\n",
              "    }\n",
              "</style>\n",
              "<table border=\"1\" class=\"dataframe\">\n",
              "  <thead>\n",
              "    <tr style=\"text-align: right;\">\n",
              "      <th></th>\n",
              "      <th>budget</th>\n",
              "      <th>genres</th>\n",
              "      <th>homepage</th>\n",
              "      <th>id</th>\n",
              "      <th>keywords</th>\n",
              "      <th>original_language</th>\n",
              "      <th>original_title</th>\n",
              "      <th>overview</th>\n",
              "      <th>popularity</th>\n",
              "      <th>production_companies</th>\n",
              "      <th>...</th>\n",
              "      <th>runtime</th>\n",
              "      <th>spoken_languages</th>\n",
              "      <th>status</th>\n",
              "      <th>tagline</th>\n",
              "      <th>title</th>\n",
              "      <th>vote_average</th>\n",
              "      <th>vote_count</th>\n",
              "      <th>movie_id</th>\n",
              "      <th>cast</th>\n",
              "      <th>crew</th>\n",
              "    </tr>\n",
              "  </thead>\n",
              "  <tbody>\n",
              "    <tr>\n",
              "      <th>1881</th>\n",
              "      <td>30000000</td>\n",
              "      <td>[Drama, History]</td>\n",
              "      <td>NaN</td>\n",
              "      <td>4518</td>\n",
              "      <td>[duke, historical figure, treason, catholic, p...</td>\n",
              "      <td>en</td>\n",
              "      <td>Elizabeth</td>\n",
              "      <td>The story of the ascension to the throne and t...</td>\n",
              "      <td>14.179538</td>\n",
              "      <td>[{\"name\": \"Channel Four Films\", \"id\": 181}, {\"...</td>\n",
              "      <td>...</td>\n",
              "      <td>124.0</td>\n",
              "      <td>[{\"iso_639_1\": \"fr\", \"name\": \"Fran\\u00e7ais\"},...</td>\n",
              "      <td>Released</td>\n",
              "      <td>Declared illegitimate aged 3. Tried for treaso...</td>\n",
              "      <td>Elizabeth</td>\n",
              "      <td>7.1</td>\n",
              "      <td>334</td>\n",
              "      <td>4518</td>\n",
              "      <td>[Cate Blanchett, Geoffrey Rush, Christopher Ec...</td>\n",
              "      <td>[Shekhar Kapur]</td>\n",
              "    </tr>\n",
              "    <tr>\n",
              "      <th>1008</th>\n",
              "      <td>48000000</td>\n",
              "      <td>[Thriller, Drama, Crime]</td>\n",
              "      <td>NaN</td>\n",
              "      <td>1900</td>\n",
              "      <td>[usa, war on drugs, drug traffic, drug dealer,...</td>\n",
              "      <td>en</td>\n",
              "      <td>Traffic</td>\n",
              "      <td>An exploration of the United States of America...</td>\n",
              "      <td>25.170217</td>\n",
              "      <td>[{\"name\": \"USA Films\", \"id\": 987}, {\"name\": \"I...</td>\n",
              "      <td>...</td>\n",
              "      <td>147.0</td>\n",
              "      <td>[{\"iso_639_1\": \"es\", \"name\": \"Espa\\u00f1ol\"}, ...</td>\n",
              "      <td>Released</td>\n",
              "      <td>No one gets away clean</td>\n",
              "      <td>Traffic</td>\n",
              "      <td>6.9</td>\n",
              "      <td>562</td>\n",
              "      <td>1900</td>\n",
              "      <td>[Michael Douglas, Benicio del Toro, Jacob Varg...</td>\n",
              "      <td>[Steven Soderbergh]</td>\n",
              "    </tr>\n",
              "    <tr>\n",
              "      <th>2653</th>\n",
              "      <td>15000000</td>\n",
              "      <td>[Mystery, Drama, Crime, Thriller, Horror]</td>\n",
              "      <td>http://www.midnightmeattrainthemovie.com</td>\n",
              "      <td>10185</td>\n",
              "      <td>[photographer, butcher, vegetarian, midnight, ...</td>\n",
              "      <td>en</td>\n",
              "      <td>The Midnight Meat Train</td>\n",
              "      <td>The photographer Leon lives with his girlfrien...</td>\n",
              "      <td>19.913961</td>\n",
              "      <td>[{\"name\": \"Lions Gate Films\", \"id\": 35}, {\"nam...</td>\n",
              "      <td>...</td>\n",
              "      <td>98.0</td>\n",
              "      <td>[{\"iso_639_1\": \"en\", \"name\": \"English\"}, {\"iso...</td>\n",
              "      <td>Released</td>\n",
              "      <td>The most terrifying ride you'll ever take</td>\n",
              "      <td>The Midnight Meat Train</td>\n",
              "      <td>6.0</td>\n",
              "      <td>290</td>\n",
              "      <td>10185</td>\n",
              "      <td>[Bradley Cooper, Vinnie Jones, Brooke Shields,...</td>\n",
              "      <td>[Ryûhei Kitamura]</td>\n",
              "    </tr>\n",
              "    <tr>\n",
              "      <th>860</th>\n",
              "      <td>55000000</td>\n",
              "      <td>[Drama, Romance]</td>\n",
              "      <td>http://www.burlesquethemovie.com/</td>\n",
              "      <td>42297</td>\n",
              "      <td>[musical, los angeles, burlesque, burlesque da...</td>\n",
              "      <td>en</td>\n",
              "      <td>Burlesque</td>\n",
              "      <td>The Burlesque Lounge has its best days behind ...</td>\n",
              "      <td>22.863516</td>\n",
              "      <td>[{\"name\": \"Bedford Falls Productions\", \"id\": 3...</td>\n",
              "      <td>...</td>\n",
              "      <td>119.0</td>\n",
              "      <td>[{\"iso_639_1\": \"en\", \"name\": \"English\"}]</td>\n",
              "      <td>Released</td>\n",
              "      <td>It takes a legend... to make a star</td>\n",
              "      <td>Burlesque</td>\n",
              "      <td>6.9</td>\n",
              "      <td>573</td>\n",
              "      <td>42297</td>\n",
              "      <td>[Cher, Christina Aguilera, Eric Dane, Cam Giga...</td>\n",
              "      <td>[Steve Antin]</td>\n",
              "    </tr>\n",
              "    <tr>\n",
              "      <th>1819</th>\n",
              "      <td>33000000</td>\n",
              "      <td>[Drama]</td>\n",
              "      <td>http://www.thegrantorino.com/</td>\n",
              "      <td>13223</td>\n",
              "      <td>[rape, war veteran, immigration, priest, gang,...</td>\n",
              "      <td>en</td>\n",
              "      <td>Gran Torino</td>\n",
              "      <td>Walt Kowalski is a widower who holds onto his ...</td>\n",
              "      <td>50.745300</td>\n",
              "      <td>[{\"name\": \"Village Roadshow Pictures\", \"id\": 7...</td>\n",
              "      <td>...</td>\n",
              "      <td>116.0</td>\n",
              "      <td>[{\"iso_639_1\": \"en\", \"name\": \"English\"}]</td>\n",
              "      <td>Released</td>\n",
              "      <td>Ever come across somebody you shouldn't have m...</td>\n",
              "      <td>Gran Torino</td>\n",
              "      <td>7.8</td>\n",
              "      <td>3086</td>\n",
              "      <td>13223</td>\n",
              "      <td>[Clint Eastwood, Christopher Carley, Bee Vang,...</td>\n",
              "      <td>[Clint Eastwood]</td>\n",
              "    </tr>\n",
              "  </tbody>\n",
              "</table>\n",
              "<p>5 rows × 23 columns</p>\n",
              "</div>"
            ],
            "text/plain": [
              "        budget                                     genres  \\\n",
              "1881  30000000                           [Drama, History]   \n",
              "1008  48000000                   [Thriller, Drama, Crime]   \n",
              "2653  15000000  [Mystery, Drama, Crime, Thriller, Horror]   \n",
              "860   55000000                           [Drama, Romance]   \n",
              "1819  33000000                                    [Drama]   \n",
              "\n",
              "                                      homepage     id  \\\n",
              "1881                                       NaN   4518   \n",
              "1008                                       NaN   1900   \n",
              "2653  http://www.midnightmeattrainthemovie.com  10185   \n",
              "860          http://www.burlesquethemovie.com/  42297   \n",
              "1819             http://www.thegrantorino.com/  13223   \n",
              "\n",
              "                                               keywords original_language  \\\n",
              "1881  [duke, historical figure, treason, catholic, p...                en   \n",
              "1008  [usa, war on drugs, drug traffic, drug dealer,...                en   \n",
              "2653  [photographer, butcher, vegetarian, midnight, ...                en   \n",
              "860   [musical, los angeles, burlesque, burlesque da...                en   \n",
              "1819  [rape, war veteran, immigration, priest, gang,...                en   \n",
              "\n",
              "               original_title  \\\n",
              "1881                Elizabeth   \n",
              "1008                  Traffic   \n",
              "2653  The Midnight Meat Train   \n",
              "860                 Burlesque   \n",
              "1819              Gran Torino   \n",
              "\n",
              "                                               overview  popularity  \\\n",
              "1881  The story of the ascension to the throne and t...   14.179538   \n",
              "1008  An exploration of the United States of America...   25.170217   \n",
              "2653  The photographer Leon lives with his girlfrien...   19.913961   \n",
              "860   The Burlesque Lounge has its best days behind ...   22.863516   \n",
              "1819  Walt Kowalski is a widower who holds onto his ...   50.745300   \n",
              "\n",
              "                                   production_companies  ... runtime  \\\n",
              "1881  [{\"name\": \"Channel Four Films\", \"id\": 181}, {\"...  ...   124.0   \n",
              "1008  [{\"name\": \"USA Films\", \"id\": 987}, {\"name\": \"I...  ...   147.0   \n",
              "2653  [{\"name\": \"Lions Gate Films\", \"id\": 35}, {\"nam...  ...    98.0   \n",
              "860   [{\"name\": \"Bedford Falls Productions\", \"id\": 3...  ...   119.0   \n",
              "1819  [{\"name\": \"Village Roadshow Pictures\", \"id\": 7...  ...   116.0   \n",
              "\n",
              "                                       spoken_languages    status  \\\n",
              "1881  [{\"iso_639_1\": \"fr\", \"name\": \"Fran\\u00e7ais\"},...  Released   \n",
              "1008  [{\"iso_639_1\": \"es\", \"name\": \"Espa\\u00f1ol\"}, ...  Released   \n",
              "2653  [{\"iso_639_1\": \"en\", \"name\": \"English\"}, {\"iso...  Released   \n",
              "860            [{\"iso_639_1\": \"en\", \"name\": \"English\"}]  Released   \n",
              "1819           [{\"iso_639_1\": \"en\", \"name\": \"English\"}]  Released   \n",
              "\n",
              "                                                tagline  \\\n",
              "1881  Declared illegitimate aged 3. Tried for treaso...   \n",
              "1008                             No one gets away clean   \n",
              "2653          The most terrifying ride you'll ever take   \n",
              "860                 It takes a legend... to make a star   \n",
              "1819  Ever come across somebody you shouldn't have m...   \n",
              "\n",
              "                        title vote_average vote_count movie_id  \\\n",
              "1881                Elizabeth          7.1        334     4518   \n",
              "1008                  Traffic          6.9        562     1900   \n",
              "2653  The Midnight Meat Train          6.0        290    10185   \n",
              "860                 Burlesque          6.9        573    42297   \n",
              "1819              Gran Torino          7.8       3086    13223   \n",
              "\n",
              "                                                   cast                 crew  \n",
              "1881  [Cate Blanchett, Geoffrey Rush, Christopher Ec...      [Shekhar Kapur]  \n",
              "1008  [Michael Douglas, Benicio del Toro, Jacob Varg...  [Steven Soderbergh]  \n",
              "2653  [Bradley Cooper, Vinnie Jones, Brooke Shields,...    [Ryûhei Kitamura]  \n",
              "860   [Cher, Christina Aguilera, Eric Dane, Cam Giga...        [Steve Antin]  \n",
              "1819  [Clint Eastwood, Christopher Carley, Bee Vang,...     [Clint Eastwood]  \n",
              "\n",
              "[5 rows x 23 columns]"
            ]
          },
          "execution_count": 24,
          "metadata": {},
          "output_type": "execute_result"
        }
      ],
      "source": [
        "movies.sample(5)"
      ]
    },
    {
      "cell_type": "code",
      "execution_count": 25,
      "metadata": {
        "id": "L4kZ-S4HNji3"
      },
      "outputs": [],
      "source": [
        "# removing space \n",
        "def _join(x):\n",
        "  l=[]\n",
        "  for i in x:\n",
        "    l.append(i.replace(\" \",\"\"))\n",
        "  return l"
      ]
    },
    {
      "cell_type": "code",
      "execution_count": 26,
      "metadata": {
        "id": "Zs-nrtvKRVS2"
      },
      "outputs": [],
      "source": [
        "movies[\"cast\"]=movies[\"cast\"].apply(_join)\n",
        "\n"
      ]
    },
    {
      "cell_type": "code",
      "execution_count": 27,
      "metadata": {
        "id": "kbEB1eC7S-r8"
      },
      "outputs": [],
      "source": [
        "movies[\"cast\"]=movies[\"cast\"].apply(lambda i:i[0:3])"
      ]
    },
    {
      "cell_type": "code",
      "execution_count": 28,
      "metadata": {
        "colab": {
          "base_uri": "https://localhost:8080/"
        },
        "id": "uhBnbGEvUP5j",
        "outputId": "62407e62-4648-44a4-b4c5-58f4d19b82f7"
      },
      "outputs": [
        {
          "data": {
            "text/plain": [
              "0        [SamWorthington, ZoeSaldana, SigourneyWeaver]\n",
              "1           [JohnnyDepp, OrlandoBloom, KeiraKnightley]\n",
              "2            [DanielCraig, ChristophWaltz, LéaSeydoux]\n",
              "3            [ChristianBale, MichaelCaine, GaryOldman]\n",
              "4          [TaylorKitsch, LynnCollins, SamanthaMorton]\n",
              "                             ...                      \n",
              "4804    [CarlosGallardo, JaimedeHoyos, PeterMarquardt]\n",
              "4805         [EdwardBurns, KerryBishé, MarshaDietlein]\n",
              "4806           [EricMabius, KristinBooth, CrystalLowe]\n",
              "4807            [DanielHenney, ElizaCoupe, BillPaxton]\n",
              "4808    [DrewBarrymore, BrianHerzlinger, CoreyFeldman]\n",
              "Name: cast, Length: 4809, dtype: object"
            ]
          },
          "execution_count": 28,
          "metadata": {},
          "output_type": "execute_result"
        }
      ],
      "source": [
        "movies[\"cast\"]"
      ]
    },
    {
      "cell_type": "code",
      "execution_count": null,
      "metadata": {
        "id": "UUqDXSujoqRv"
      },
      "outputs": [],
      "source": []
    },
    {
      "cell_type": "markdown",
      "metadata": {
        "id": "XRsn8EL1NnCE"
      },
      "source": [
        "## we want \n",
        "1.genres\n",
        "2.key words\n",
        "3.title\n",
        "4. overview\n",
        "5.cast (name)\n",
        "6.crew(director name) "
      ]
    },
    {
      "cell_type": "code",
      "execution_count": 29,
      "metadata": {
        "id": "EnsbLybYNsvf"
      },
      "outputs": [],
      "source": [
        "new_df=pd.DataFrame(movies,columns=['id','homepage','title','cast','crew','overview','genres','keywords'])"
      ]
    },
    {
      "cell_type": "code",
      "execution_count": 30,
      "metadata": {
        "colab": {
          "base_uri": "https://localhost:8080/",
          "height": 719
        },
        "id": "2DdoTGuzOJr2",
        "outputId": "8ddc2fca-9d52-4dbd-f350-4095c892f9fd"
      },
      "outputs": [
        {
          "data": {
            "text/html": [
              "<div>\n",
              "<style scoped>\n",
              "    .dataframe tbody tr th:only-of-type {\n",
              "        vertical-align: middle;\n",
              "    }\n",
              "\n",
              "    .dataframe tbody tr th {\n",
              "        vertical-align: top;\n",
              "    }\n",
              "\n",
              "    .dataframe thead th {\n",
              "        text-align: right;\n",
              "    }\n",
              "</style>\n",
              "<table border=\"1\" class=\"dataframe\">\n",
              "  <thead>\n",
              "    <tr style=\"text-align: right;\">\n",
              "      <th></th>\n",
              "      <th>id</th>\n",
              "      <th>homepage</th>\n",
              "      <th>title</th>\n",
              "      <th>cast</th>\n",
              "      <th>crew</th>\n",
              "      <th>overview</th>\n",
              "      <th>genres</th>\n",
              "      <th>keywords</th>\n",
              "    </tr>\n",
              "  </thead>\n",
              "  <tbody>\n",
              "    <tr>\n",
              "      <th>0</th>\n",
              "      <td>19995</td>\n",
              "      <td>http://www.avatarmovie.com/</td>\n",
              "      <td>Avatar</td>\n",
              "      <td>[SamWorthington, ZoeSaldana, SigourneyWeaver]</td>\n",
              "      <td>[James Cameron]</td>\n",
              "      <td>In the 22nd century, a paraplegic Marine is di...</td>\n",
              "      <td>[Action, Adventure, Fantasy, Science Fiction]</td>\n",
              "      <td>[culture clash, future, space war, space colon...</td>\n",
              "    </tr>\n",
              "    <tr>\n",
              "      <th>1</th>\n",
              "      <td>285</td>\n",
              "      <td>http://disney.go.com/disneypictures/pirates/</td>\n",
              "      <td>Pirates of the Caribbean: At World's End</td>\n",
              "      <td>[JohnnyDepp, OrlandoBloom, KeiraKnightley]</td>\n",
              "      <td>[Gore Verbinski]</td>\n",
              "      <td>Captain Barbossa, long believed to be dead, ha...</td>\n",
              "      <td>[Adventure, Fantasy, Action]</td>\n",
              "      <td>[ocean, drug abuse, exotic island, east india ...</td>\n",
              "    </tr>\n",
              "    <tr>\n",
              "      <th>2</th>\n",
              "      <td>206647</td>\n",
              "      <td>http://www.sonypictures.com/movies/spectre/</td>\n",
              "      <td>Spectre</td>\n",
              "      <td>[DanielCraig, ChristophWaltz, LéaSeydoux]</td>\n",
              "      <td>[Sam Mendes]</td>\n",
              "      <td>A cryptic message from Bond’s past sends him o...</td>\n",
              "      <td>[Action, Adventure, Crime]</td>\n",
              "      <td>[spy, based on novel, secret agent, sequel, mi...</td>\n",
              "    </tr>\n",
              "    <tr>\n",
              "      <th>3</th>\n",
              "      <td>49026</td>\n",
              "      <td>http://www.thedarkknightrises.com/</td>\n",
              "      <td>The Dark Knight Rises</td>\n",
              "      <td>[ChristianBale, MichaelCaine, GaryOldman]</td>\n",
              "      <td>[Christopher Nolan]</td>\n",
              "      <td>Following the death of District Attorney Harve...</td>\n",
              "      <td>[Action, Crime, Drama, Thriller]</td>\n",
              "      <td>[dc comics, crime fighter, terrorist, secret i...</td>\n",
              "    </tr>\n",
              "    <tr>\n",
              "      <th>4</th>\n",
              "      <td>49529</td>\n",
              "      <td>http://movies.disney.com/john-carter</td>\n",
              "      <td>John Carter</td>\n",
              "      <td>[TaylorKitsch, LynnCollins, SamanthaMorton]</td>\n",
              "      <td>[Andrew Stanton]</td>\n",
              "      <td>John Carter is a war-weary, former military ca...</td>\n",
              "      <td>[Action, Adventure, Science Fiction]</td>\n",
              "      <td>[based on novel, mars, medallion, space travel...</td>\n",
              "    </tr>\n",
              "  </tbody>\n",
              "</table>\n",
              "</div>"
            ],
            "text/plain": [
              "       id                                      homepage  \\\n",
              "0   19995                   http://www.avatarmovie.com/   \n",
              "1     285  http://disney.go.com/disneypictures/pirates/   \n",
              "2  206647   http://www.sonypictures.com/movies/spectre/   \n",
              "3   49026            http://www.thedarkknightrises.com/   \n",
              "4   49529          http://movies.disney.com/john-carter   \n",
              "\n",
              "                                      title  \\\n",
              "0                                    Avatar   \n",
              "1  Pirates of the Caribbean: At World's End   \n",
              "2                                   Spectre   \n",
              "3                     The Dark Knight Rises   \n",
              "4                               John Carter   \n",
              "\n",
              "                                            cast                 crew  \\\n",
              "0  [SamWorthington, ZoeSaldana, SigourneyWeaver]      [James Cameron]   \n",
              "1     [JohnnyDepp, OrlandoBloom, KeiraKnightley]     [Gore Verbinski]   \n",
              "2      [DanielCraig, ChristophWaltz, LéaSeydoux]         [Sam Mendes]   \n",
              "3      [ChristianBale, MichaelCaine, GaryOldman]  [Christopher Nolan]   \n",
              "4    [TaylorKitsch, LynnCollins, SamanthaMorton]     [Andrew Stanton]   \n",
              "\n",
              "                                            overview  \\\n",
              "0  In the 22nd century, a paraplegic Marine is di...   \n",
              "1  Captain Barbossa, long believed to be dead, ha...   \n",
              "2  A cryptic message from Bond’s past sends him o...   \n",
              "3  Following the death of District Attorney Harve...   \n",
              "4  John Carter is a war-weary, former military ca...   \n",
              "\n",
              "                                          genres  \\\n",
              "0  [Action, Adventure, Fantasy, Science Fiction]   \n",
              "1                   [Adventure, Fantasy, Action]   \n",
              "2                     [Action, Adventure, Crime]   \n",
              "3               [Action, Crime, Drama, Thriller]   \n",
              "4           [Action, Adventure, Science Fiction]   \n",
              "\n",
              "                                            keywords  \n",
              "0  [culture clash, future, space war, space colon...  \n",
              "1  [ocean, drug abuse, exotic island, east india ...  \n",
              "2  [spy, based on novel, secret agent, sequel, mi...  \n",
              "3  [dc comics, crime fighter, terrorist, secret i...  \n",
              "4  [based on novel, mars, medallion, space travel...  "
            ]
          },
          "execution_count": 30,
          "metadata": {},
          "output_type": "execute_result"
        }
      ],
      "source": [
        "new_df.head(5)"
      ]
    },
    {
      "cell_type": "code",
      "execution_count": 31,
      "metadata": {
        "id": "nv3PCjqdV0h9"
      },
      "outputs": [],
      "source": [
        "new_df['crew']=new_df['crew'].apply(_join)"
      ]
    },
    {
      "cell_type": "code",
      "execution_count": 32,
      "metadata": {
        "colab": {
          "base_uri": "https://localhost:8080/",
          "height": 774
        },
        "id": "CCu7ggLQWdaL",
        "outputId": "97e32f89-e5f7-41d3-993c-44c270de342a"
      },
      "outputs": [
        {
          "data": {
            "text/html": [
              "<div>\n",
              "<style scoped>\n",
              "    .dataframe tbody tr th:only-of-type {\n",
              "        vertical-align: middle;\n",
              "    }\n",
              "\n",
              "    .dataframe tbody tr th {\n",
              "        vertical-align: top;\n",
              "    }\n",
              "\n",
              "    .dataframe thead th {\n",
              "        text-align: right;\n",
              "    }\n",
              "</style>\n",
              "<table border=\"1\" class=\"dataframe\">\n",
              "  <thead>\n",
              "    <tr style=\"text-align: right;\">\n",
              "      <th></th>\n",
              "      <th>id</th>\n",
              "      <th>homepage</th>\n",
              "      <th>title</th>\n",
              "      <th>cast</th>\n",
              "      <th>crew</th>\n",
              "      <th>overview</th>\n",
              "      <th>genres</th>\n",
              "      <th>keywords</th>\n",
              "    </tr>\n",
              "  </thead>\n",
              "  <tbody>\n",
              "    <tr>\n",
              "      <th>0</th>\n",
              "      <td>19995</td>\n",
              "      <td>http://www.avatarmovie.com/</td>\n",
              "      <td>Avatar</td>\n",
              "      <td>[SamWorthington, ZoeSaldana, SigourneyWeaver]</td>\n",
              "      <td>[JamesCameron]</td>\n",
              "      <td>In the 22nd century, a paraplegic Marine is di...</td>\n",
              "      <td>[Action, Adventure, Fantasy, Science Fiction]</td>\n",
              "      <td>[culture clash, future, space war, space colon...</td>\n",
              "    </tr>\n",
              "    <tr>\n",
              "      <th>1</th>\n",
              "      <td>285</td>\n",
              "      <td>http://disney.go.com/disneypictures/pirates/</td>\n",
              "      <td>Pirates of the Caribbean: At World's End</td>\n",
              "      <td>[JohnnyDepp, OrlandoBloom, KeiraKnightley]</td>\n",
              "      <td>[GoreVerbinski]</td>\n",
              "      <td>Captain Barbossa, long believed to be dead, ha...</td>\n",
              "      <td>[Adventure, Fantasy, Action]</td>\n",
              "      <td>[ocean, drug abuse, exotic island, east india ...</td>\n",
              "    </tr>\n",
              "    <tr>\n",
              "      <th>2</th>\n",
              "      <td>206647</td>\n",
              "      <td>http://www.sonypictures.com/movies/spectre/</td>\n",
              "      <td>Spectre</td>\n",
              "      <td>[DanielCraig, ChristophWaltz, LéaSeydoux]</td>\n",
              "      <td>[SamMendes]</td>\n",
              "      <td>A cryptic message from Bond’s past sends him o...</td>\n",
              "      <td>[Action, Adventure, Crime]</td>\n",
              "      <td>[spy, based on novel, secret agent, sequel, mi...</td>\n",
              "    </tr>\n",
              "    <tr>\n",
              "      <th>3</th>\n",
              "      <td>49026</td>\n",
              "      <td>http://www.thedarkknightrises.com/</td>\n",
              "      <td>The Dark Knight Rises</td>\n",
              "      <td>[ChristianBale, MichaelCaine, GaryOldman]</td>\n",
              "      <td>[ChristopherNolan]</td>\n",
              "      <td>Following the death of District Attorney Harve...</td>\n",
              "      <td>[Action, Crime, Drama, Thriller]</td>\n",
              "      <td>[dc comics, crime fighter, terrorist, secret i...</td>\n",
              "    </tr>\n",
              "    <tr>\n",
              "      <th>4</th>\n",
              "      <td>49529</td>\n",
              "      <td>http://movies.disney.com/john-carter</td>\n",
              "      <td>John Carter</td>\n",
              "      <td>[TaylorKitsch, LynnCollins, SamanthaMorton]</td>\n",
              "      <td>[AndrewStanton]</td>\n",
              "      <td>John Carter is a war-weary, former military ca...</td>\n",
              "      <td>[Action, Adventure, Science Fiction]</td>\n",
              "      <td>[based on novel, mars, medallion, space travel...</td>\n",
              "    </tr>\n",
              "  </tbody>\n",
              "</table>\n",
              "</div>"
            ],
            "text/plain": [
              "       id                                      homepage  \\\n",
              "0   19995                   http://www.avatarmovie.com/   \n",
              "1     285  http://disney.go.com/disneypictures/pirates/   \n",
              "2  206647   http://www.sonypictures.com/movies/spectre/   \n",
              "3   49026            http://www.thedarkknightrises.com/   \n",
              "4   49529          http://movies.disney.com/john-carter   \n",
              "\n",
              "                                      title  \\\n",
              "0                                    Avatar   \n",
              "1  Pirates of the Caribbean: At World's End   \n",
              "2                                   Spectre   \n",
              "3                     The Dark Knight Rises   \n",
              "4                               John Carter   \n",
              "\n",
              "                                            cast                crew  \\\n",
              "0  [SamWorthington, ZoeSaldana, SigourneyWeaver]      [JamesCameron]   \n",
              "1     [JohnnyDepp, OrlandoBloom, KeiraKnightley]     [GoreVerbinski]   \n",
              "2      [DanielCraig, ChristophWaltz, LéaSeydoux]         [SamMendes]   \n",
              "3      [ChristianBale, MichaelCaine, GaryOldman]  [ChristopherNolan]   \n",
              "4    [TaylorKitsch, LynnCollins, SamanthaMorton]     [AndrewStanton]   \n",
              "\n",
              "                                            overview  \\\n",
              "0  In the 22nd century, a paraplegic Marine is di...   \n",
              "1  Captain Barbossa, long believed to be dead, ha...   \n",
              "2  A cryptic message from Bond’s past sends him o...   \n",
              "3  Following the death of District Attorney Harve...   \n",
              "4  John Carter is a war-weary, former military ca...   \n",
              "\n",
              "                                          genres  \\\n",
              "0  [Action, Adventure, Fantasy, Science Fiction]   \n",
              "1                   [Adventure, Fantasy, Action]   \n",
              "2                     [Action, Adventure, Crime]   \n",
              "3               [Action, Crime, Drama, Thriller]   \n",
              "4           [Action, Adventure, Science Fiction]   \n",
              "\n",
              "                                            keywords  \n",
              "0  [culture clash, future, space war, space colon...  \n",
              "1  [ocean, drug abuse, exotic island, east india ...  \n",
              "2  [spy, based on novel, secret agent, sequel, mi...  \n",
              "3  [dc comics, crime fighter, terrorist, secret i...  \n",
              "4  [based on novel, mars, medallion, space travel...  "
            ]
          },
          "execution_count": 32,
          "metadata": {},
          "output_type": "execute_result"
        }
      ],
      "source": [
        "new_df.head()"
      ]
    },
    {
      "cell_type": "code",
      "execution_count": 33,
      "metadata": {
        "colab": {
          "base_uri": "https://localhost:8080/"
        },
        "id": "xwc6Kcm_WpGV",
        "outputId": "7f42b5ca-6394-405e-c33d-dd5345bcb923"
      },
      "outputs": [
        {
          "data": {
            "text/plain": [
              "id             0\n",
              "homepage    3096\n",
              "title          0\n",
              "cast           0\n",
              "crew           0\n",
              "overview       3\n",
              "genres         0\n",
              "keywords       0\n",
              "dtype: int64"
            ]
          },
          "execution_count": 33,
          "metadata": {},
          "output_type": "execute_result"
        }
      ],
      "source": [
        "new_df.isna().sum()"
      ]
    },
    {
      "cell_type": "code",
      "execution_count": 34,
      "metadata": {
        "id": "dorJrIA8hsIw"
      },
      "outputs": [],
      "source": [
        "new_df[\"homepage\"]=new_df[\"homepage\"].fillna(0)"
      ]
    },
    {
      "cell_type": "code",
      "execution_count": 35,
      "metadata": {
        "colab": {
          "base_uri": "https://localhost:8080/"
        },
        "id": "Tt6bKeV8cKGY",
        "outputId": "696e0e5d-e974-4c4a-d838-e4b83d0cdaf5"
      },
      "outputs": [
        {
          "name": "stderr",
          "output_type": "stream",
          "text": [
            "C:\\Users\\DarkLord\\AppData\\Local\\Temp\\ipykernel_17500\\3303242796.py:10: SettingWithCopyWarning: \n",
            "A value is trying to be set on a copy of a slice from a DataFrame\n",
            "\n",
            "See the caveats in the documentation: https://pandas.pydata.org/pandas-docs/stable/user_guide/indexing.html#returning-a-view-versus-a-copy\n",
            "  new_df[\"urls\"][i]=new_df[\"homepage\"][i]\n"
          ]
        }
      ],
      "source": [
        "url=list(enumerate(new_df[\"homepage\"]))\n",
        "new_df[\"urls\"]=0\n",
        "for i in range(len(url)):\n",
        "  if new_df[\"homepage\"][i]==0:\n",
        "    \n",
        "    x=(\"{}/{}\".format(\"https://www.\",str(\"\".join(list(new_df[\"title\"][url[i][0]].split())))))\n",
        "\n",
        "    new_df[\"urls\"][i]=x\n",
        "  else:\n",
        "    new_df[\"urls\"][i]=new_df[\"homepage\"][i]"
      ]
    },
    {
      "cell_type": "code",
      "execution_count": 36,
      "metadata": {
        "colab": {
          "base_uri": "https://localhost:8080/"
        },
        "id": "D42ld3ZLW_SM",
        "outputId": "2979a798-1e1f-4515-eefd-fd0cee0c5d67"
      },
      "outputs": [
        {
          "data": {
            "text/plain": [
              "0                             http://www.avatarmovie.com/\n",
              "1            http://disney.go.com/disneypictures/pirates/\n",
              "2             http://www.sonypictures.com/movies/spectre/\n",
              "3                      http://www.thedarkknightrises.com/\n",
              "4                    http://movies.disney.com/john-carter\n",
              "                              ...                        \n",
              "4804                              https://www./ElMariachi\n",
              "4805                               https://www./Newlyweds\n",
              "4806    http://www.hallmarkchannel.com/signedsealeddel...\n",
              "4807                          http://shanghaicalling.com/\n",
              "4808                          https://www./MyDatewithDrew\n",
              "Name: urls, Length: 4809, dtype: object"
            ]
          },
          "execution_count": 36,
          "metadata": {},
          "output_type": "execute_result"
        }
      ],
      "source": [
        "\n",
        "# def link(url,i):\n",
        "#   s=url\n",
        "#   x=\"{} + {}\".format(\"https://www.\",str(new_df.iloc[[url[i][0]]].title))\n",
        "#   iF s is \"link\" \n",
        "#     return x\n",
        "#   else:\n",
        "#     return s\n",
        "# # new_df[new_df[\"homepage\"].fillna(\"{} + {}\".format(\"https://www.\",new_df[\"title\"]]))\n",
        "new_df[\"urls\"]"
      ]
    },
    {
      "cell_type": "code",
      "execution_count": 37,
      "metadata": {
        "colab": {
          "base_uri": "https://localhost:8080/",
          "height": 565
        },
        "id": "ViDfZ3uwiERZ",
        "outputId": "7af6e8de-5c4c-4eb0-be19-00d5b007e3a4"
      },
      "outputs": [
        {
          "data": {
            "text/html": [
              "<div>\n",
              "<style scoped>\n",
              "    .dataframe tbody tr th:only-of-type {\n",
              "        vertical-align: middle;\n",
              "    }\n",
              "\n",
              "    .dataframe tbody tr th {\n",
              "        vertical-align: top;\n",
              "    }\n",
              "\n",
              "    .dataframe thead th {\n",
              "        text-align: right;\n",
              "    }\n",
              "</style>\n",
              "<table border=\"1\" class=\"dataframe\">\n",
              "  <thead>\n",
              "    <tr style=\"text-align: right;\">\n",
              "      <th></th>\n",
              "      <th>id</th>\n",
              "      <th>homepage</th>\n",
              "      <th>title</th>\n",
              "      <th>cast</th>\n",
              "      <th>crew</th>\n",
              "      <th>overview</th>\n",
              "      <th>genres</th>\n",
              "      <th>keywords</th>\n",
              "      <th>urls</th>\n",
              "    </tr>\n",
              "  </thead>\n",
              "  <tbody>\n",
              "    <tr>\n",
              "      <th>2985</th>\n",
              "      <td>316727</td>\n",
              "      <td>http://www.purgeelectionyear.com</td>\n",
              "      <td>The Purge: Election Year</td>\n",
              "      <td>[ElizabethMitchell, FrankGrillo, MykeltiWillia...</td>\n",
              "      <td>[JamesDeMonaco]</td>\n",
              "      <td>Two years after choosing not to kill the man w...</td>\n",
              "      <td>[Action, Horror, Thriller]</td>\n",
              "      <td>[dystopia, sequel, legalized murder]</td>\n",
              "      <td>http://www.purgeelectionyear.com</td>\n",
              "    </tr>\n",
              "    <tr>\n",
              "      <th>4287</th>\n",
              "      <td>223</td>\n",
              "      <td>0</td>\n",
              "      <td>Rebecca</td>\n",
              "      <td>[LaurenceOlivier, JoanFontaine, GeorgeSanders]</td>\n",
              "      <td>[AlfredHitchcock]</td>\n",
              "      <td>A self-conscious bride is tormented by the mem...</td>\n",
              "      <td>[Drama, Mystery]</td>\n",
              "      <td>[monte carlo, based on novel, age difference, ...</td>\n",
              "      <td>https://www./Rebecca</td>\n",
              "    </tr>\n",
              "    <tr>\n",
              "      <th>2721</th>\n",
              "      <td>23988</td>\n",
              "      <td>0</td>\n",
              "      <td>Stan Helsing</td>\n",
              "      <td>[DioraBaird, LeslieNielsen, SteveHowey]</td>\n",
              "      <td>[BoZenga]</td>\n",
              "      <td>It's Halloween night and video store clerk Sta...</td>\n",
              "      <td>[Comedy, Horror]</td>\n",
              "      <td>[halloween, slapstick, duringcreditsstinger]</td>\n",
              "      <td>https://www./StanHelsing</td>\n",
              "    </tr>\n",
              "    <tr>\n",
              "      <th>228</th>\n",
              "      <td>75612</td>\n",
              "      <td>https://www.uphe.com/movies/oblivion</td>\n",
              "      <td>Oblivion</td>\n",
              "      <td>[TomCruise, MorganFreeman, OlgaKurylenko]</td>\n",
              "      <td>[JosephKosinski]</td>\n",
              "      <td>Jack Harper is one of the last few drone repai...</td>\n",
              "      <td>[Action, Science Fiction, Adventure, Mystery]</td>\n",
              "      <td>[spacecraft, dystopia, space, drone, imax, hum...</td>\n",
              "      <td>https://www.uphe.com/movies/oblivion</td>\n",
              "    </tr>\n",
              "    <tr>\n",
              "      <th>710</th>\n",
              "      <td>5994</td>\n",
              "      <td>0</td>\n",
              "      <td>The Family Man</td>\n",
              "      <td>[NicolasCage, TéaLeoni, DonCheadle]</td>\n",
              "      <td>[BrettRatner]</td>\n",
              "      <td>Jack's lavish, fast-paced lifestyle changes on...</td>\n",
              "      <td>[Comedy, Drama, Romance, Fantasy]</td>\n",
              "      <td>[workaholic, second chance, guardian angel, ch...</td>\n",
              "      <td>https://www./TheFamilyMan</td>\n",
              "    </tr>\n",
              "  </tbody>\n",
              "</table>\n",
              "</div>"
            ],
            "text/plain": [
              "          id                              homepage                     title  \\\n",
              "2985  316727      http://www.purgeelectionyear.com  The Purge: Election Year   \n",
              "4287     223                                     0                   Rebecca   \n",
              "2721   23988                                     0              Stan Helsing   \n",
              "228    75612  https://www.uphe.com/movies/oblivion                  Oblivion   \n",
              "710     5994                                     0            The Family Man   \n",
              "\n",
              "                                                   cast               crew  \\\n",
              "2985  [ElizabethMitchell, FrankGrillo, MykeltiWillia...    [JamesDeMonaco]   \n",
              "4287     [LaurenceOlivier, JoanFontaine, GeorgeSanders]  [AlfredHitchcock]   \n",
              "2721            [DioraBaird, LeslieNielsen, SteveHowey]          [BoZenga]   \n",
              "228           [TomCruise, MorganFreeman, OlgaKurylenko]   [JosephKosinski]   \n",
              "710                 [NicolasCage, TéaLeoni, DonCheadle]      [BrettRatner]   \n",
              "\n",
              "                                               overview  \\\n",
              "2985  Two years after choosing not to kill the man w...   \n",
              "4287  A self-conscious bride is tormented by the mem...   \n",
              "2721  It's Halloween night and video store clerk Sta...   \n",
              "228   Jack Harper is one of the last few drone repai...   \n",
              "710   Jack's lavish, fast-paced lifestyle changes on...   \n",
              "\n",
              "                                             genres  \\\n",
              "2985                     [Action, Horror, Thriller]   \n",
              "4287                               [Drama, Mystery]   \n",
              "2721                               [Comedy, Horror]   \n",
              "228   [Action, Science Fiction, Adventure, Mystery]   \n",
              "710               [Comedy, Drama, Romance, Fantasy]   \n",
              "\n",
              "                                               keywords  \\\n",
              "2985               [dystopia, sequel, legalized murder]   \n",
              "4287  [monte carlo, based on novel, age difference, ...   \n",
              "2721       [halloween, slapstick, duringcreditsstinger]   \n",
              "228   [spacecraft, dystopia, space, drone, imax, hum...   \n",
              "710   [workaholic, second chance, guardian angel, ch...   \n",
              "\n",
              "                                      urls  \n",
              "2985      http://www.purgeelectionyear.com  \n",
              "4287                  https://www./Rebecca  \n",
              "2721              https://www./StanHelsing  \n",
              "228   https://www.uphe.com/movies/oblivion  \n",
              "710              https://www./TheFamilyMan  "
            ]
          },
          "execution_count": 37,
          "metadata": {},
          "output_type": "execute_result"
        }
      ],
      "source": [
        "# new_df.iloc[[0]].title\n",
        "new_df.sample(5)"
      ]
    },
    {
      "cell_type": "code",
      "execution_count": 38,
      "metadata": {
        "id": "zOEqmAu6XMy8"
      },
      "outputs": [],
      "source": [
        "# to convert string into list of strings \n",
        "def spliting(text):\n",
        "  text=str(text).split()\n",
        "  return text"
      ]
    },
    {
      "cell_type": "code",
      "execution_count": 39,
      "metadata": {
        "id": "9AuS-rHjX_oF"
      },
      "outputs": [],
      "source": [
        "new_df['overview']=new_df['overview'].apply(spliting)"
      ]
    },
    {
      "cell_type": "code",
      "execution_count": 40,
      "metadata": {
        "id": "Vt2-skZhYJwM"
      },
      "outputs": [],
      "source": [
        "new_df['all_tags']=new_df['overview'] + new_df['genres'] + new_df['keywords'] + new_df['cast'] + new_df['crew']"
      ]
    },
    {
      "cell_type": "code",
      "execution_count": 41,
      "metadata": {
        "id": "3Q5sLoyVZaf2"
      },
      "outputs": [],
      "source": [
        "new_df.drop(columns=['overview','genres' ,'keywords','cast' , 'crew','homepage'],inplace=True)"
      ]
    },
    {
      "cell_type": "code",
      "execution_count": 42,
      "metadata": {
        "colab": {
          "base_uri": "https://localhost:8080/",
          "height": 285
        },
        "id": "R5rc9UQvbJOT",
        "outputId": "3fb46915-7ae9-4a03-a2d8-d61ff53cc63b"
      },
      "outputs": [
        {
          "data": {
            "text/html": [
              "<div>\n",
              "<style scoped>\n",
              "    .dataframe tbody tr th:only-of-type {\n",
              "        vertical-align: middle;\n",
              "    }\n",
              "\n",
              "    .dataframe tbody tr th {\n",
              "        vertical-align: top;\n",
              "    }\n",
              "\n",
              "    .dataframe thead th {\n",
              "        text-align: right;\n",
              "    }\n",
              "</style>\n",
              "<table border=\"1\" class=\"dataframe\">\n",
              "  <thead>\n",
              "    <tr style=\"text-align: right;\">\n",
              "      <th></th>\n",
              "      <th>id</th>\n",
              "      <th>title</th>\n",
              "      <th>urls</th>\n",
              "      <th>all_tags</th>\n",
              "    </tr>\n",
              "  </thead>\n",
              "  <tbody>\n",
              "    <tr>\n",
              "      <th>0</th>\n",
              "      <td>19995</td>\n",
              "      <td>Avatar</td>\n",
              "      <td>http://www.avatarmovie.com/</td>\n",
              "      <td>[In, the, 22nd, century,, a, paraplegic, Marin...</td>\n",
              "    </tr>\n",
              "    <tr>\n",
              "      <th>1</th>\n",
              "      <td>285</td>\n",
              "      <td>Pirates of the Caribbean: At World's End</td>\n",
              "      <td>http://disney.go.com/disneypictures/pirates/</td>\n",
              "      <td>[Captain, Barbossa,, long, believed, to, be, d...</td>\n",
              "    </tr>\n",
              "    <tr>\n",
              "      <th>2</th>\n",
              "      <td>206647</td>\n",
              "      <td>Spectre</td>\n",
              "      <td>http://www.sonypictures.com/movies/spectre/</td>\n",
              "      <td>[A, cryptic, message, from, Bond’s, past, send...</td>\n",
              "    </tr>\n",
              "    <tr>\n",
              "      <th>3</th>\n",
              "      <td>49026</td>\n",
              "      <td>The Dark Knight Rises</td>\n",
              "      <td>http://www.thedarkknightrises.com/</td>\n",
              "      <td>[Following, the, death, of, District, Attorney...</td>\n",
              "    </tr>\n",
              "    <tr>\n",
              "      <th>4</th>\n",
              "      <td>49529</td>\n",
              "      <td>John Carter</td>\n",
              "      <td>http://movies.disney.com/john-carter</td>\n",
              "      <td>[John, Carter, is, a, war-weary,, former, mili...</td>\n",
              "    </tr>\n",
              "  </tbody>\n",
              "</table>\n",
              "</div>"
            ],
            "text/plain": [
              "       id                                     title  \\\n",
              "0   19995                                    Avatar   \n",
              "1     285  Pirates of the Caribbean: At World's End   \n",
              "2  206647                                   Spectre   \n",
              "3   49026                     The Dark Knight Rises   \n",
              "4   49529                               John Carter   \n",
              "\n",
              "                                           urls  \\\n",
              "0                   http://www.avatarmovie.com/   \n",
              "1  http://disney.go.com/disneypictures/pirates/   \n",
              "2   http://www.sonypictures.com/movies/spectre/   \n",
              "3            http://www.thedarkknightrises.com/   \n",
              "4          http://movies.disney.com/john-carter   \n",
              "\n",
              "                                            all_tags  \n",
              "0  [In, the, 22nd, century,, a, paraplegic, Marin...  \n",
              "1  [Captain, Barbossa,, long, believed, to, be, d...  \n",
              "2  [A, cryptic, message, from, Bond’s, past, send...  \n",
              "3  [Following, the, death, of, District, Attorney...  \n",
              "4  [John, Carter, is, a, war-weary,, former, mili...  "
            ]
          },
          "execution_count": 42,
          "metadata": {},
          "output_type": "execute_result"
        }
      ],
      "source": [
        "new_df.head()"
      ]
    },
    {
      "cell_type": "code",
      "execution_count": 43,
      "metadata": {
        "id": "lZo_k7bTbcLs"
      },
      "outputs": [],
      "source": [
        "#converting all tags in lower case and deletion similarities"
      ]
    },
    {
      "cell_type": "code",
      "execution_count": 44,
      "metadata": {
        "id": "B5uqgWh3ctvG"
      },
      "outputs": [],
      "source": [
        "def convert_lower(text):\n",
        "  l=[]\n",
        "  for item in text:\n",
        "    l.append(item.lower())\n",
        "  return l\n",
        "    \n"
      ]
    },
    {
      "cell_type": "code",
      "execution_count": 45,
      "metadata": {
        "id": "YgXLTEyFbs2Y"
      },
      "outputs": [],
      "source": [
        "new_df['all_tags']=new_df['all_tags'].apply(convert_lower)"
      ]
    },
    {
      "cell_type": "code",
      "execution_count": 46,
      "metadata": {
        "colab": {
          "base_uri": "https://localhost:8080/",
          "height": 285
        },
        "id": "uLdQQ0puclNj",
        "outputId": "d8ae3d5f-9782-42c6-aaf7-0a3bf831b91b"
      },
      "outputs": [
        {
          "data": {
            "text/html": [
              "<div>\n",
              "<style scoped>\n",
              "    .dataframe tbody tr th:only-of-type {\n",
              "        vertical-align: middle;\n",
              "    }\n",
              "\n",
              "    .dataframe tbody tr th {\n",
              "        vertical-align: top;\n",
              "    }\n",
              "\n",
              "    .dataframe thead th {\n",
              "        text-align: right;\n",
              "    }\n",
              "</style>\n",
              "<table border=\"1\" class=\"dataframe\">\n",
              "  <thead>\n",
              "    <tr style=\"text-align: right;\">\n",
              "      <th></th>\n",
              "      <th>id</th>\n",
              "      <th>title</th>\n",
              "      <th>urls</th>\n",
              "      <th>all_tags</th>\n",
              "    </tr>\n",
              "  </thead>\n",
              "  <tbody>\n",
              "    <tr>\n",
              "      <th>0</th>\n",
              "      <td>19995</td>\n",
              "      <td>Avatar</td>\n",
              "      <td>http://www.avatarmovie.com/</td>\n",
              "      <td>[in, the, 22nd, century,, a, paraplegic, marin...</td>\n",
              "    </tr>\n",
              "    <tr>\n",
              "      <th>1</th>\n",
              "      <td>285</td>\n",
              "      <td>Pirates of the Caribbean: At World's End</td>\n",
              "      <td>http://disney.go.com/disneypictures/pirates/</td>\n",
              "      <td>[captain, barbossa,, long, believed, to, be, d...</td>\n",
              "    </tr>\n",
              "    <tr>\n",
              "      <th>2</th>\n",
              "      <td>206647</td>\n",
              "      <td>Spectre</td>\n",
              "      <td>http://www.sonypictures.com/movies/spectre/</td>\n",
              "      <td>[a, cryptic, message, from, bond’s, past, send...</td>\n",
              "    </tr>\n",
              "    <tr>\n",
              "      <th>3</th>\n",
              "      <td>49026</td>\n",
              "      <td>The Dark Knight Rises</td>\n",
              "      <td>http://www.thedarkknightrises.com/</td>\n",
              "      <td>[following, the, death, of, district, attorney...</td>\n",
              "    </tr>\n",
              "    <tr>\n",
              "      <th>4</th>\n",
              "      <td>49529</td>\n",
              "      <td>John Carter</td>\n",
              "      <td>http://movies.disney.com/john-carter</td>\n",
              "      <td>[john, carter, is, a, war-weary,, former, mili...</td>\n",
              "    </tr>\n",
              "  </tbody>\n",
              "</table>\n",
              "</div>"
            ],
            "text/plain": [
              "       id                                     title  \\\n",
              "0   19995                                    Avatar   \n",
              "1     285  Pirates of the Caribbean: At World's End   \n",
              "2  206647                                   Spectre   \n",
              "3   49026                     The Dark Knight Rises   \n",
              "4   49529                               John Carter   \n",
              "\n",
              "                                           urls  \\\n",
              "0                   http://www.avatarmovie.com/   \n",
              "1  http://disney.go.com/disneypictures/pirates/   \n",
              "2   http://www.sonypictures.com/movies/spectre/   \n",
              "3            http://www.thedarkknightrises.com/   \n",
              "4          http://movies.disney.com/john-carter   \n",
              "\n",
              "                                            all_tags  \n",
              "0  [in, the, 22nd, century,, a, paraplegic, marin...  \n",
              "1  [captain, barbossa,, long, believed, to, be, d...  \n",
              "2  [a, cryptic, message, from, bond’s, past, send...  \n",
              "3  [following, the, death, of, district, attorney...  \n",
              "4  [john, carter, is, a, war-weary,, former, mili...  "
            ]
          },
          "execution_count": 46,
          "metadata": {},
          "output_type": "execute_result"
        }
      ],
      "source": [
        "new_df.head()"
      ]
    },
    {
      "cell_type": "code",
      "execution_count": 47,
      "metadata": {
        "colab": {
          "base_uri": "https://localhost:8080/"
        },
        "id": "XCtnHA3hp-hF",
        "outputId": "2398737b-dbea-4292-bb73-b4c97047e7ca"
      },
      "outputs": [
        {
          "name": "stdout",
          "output_type": "stream",
          "text": [
            "Requirement already satisfied: nltk in c:\\users\\darklord\\anaconda3\\lib\\site-packages (3.7)\n",
            "Requirement already satisfied: tqdm in c:\\users\\darklord\\anaconda3\\lib\\site-packages (from nltk) (4.64.1)\n",
            "Requirement already satisfied: click in c:\\users\\darklord\\anaconda3\\lib\\site-packages (from nltk) (8.0.4)\n",
            "Requirement already satisfied: joblib in c:\\users\\darklord\\anaconda3\\lib\\site-packages (from nltk) (1.1.1)\n",
            "Requirement already satisfied: regex>=2021.8.3 in c:\\users\\darklord\\anaconda3\\lib\\site-packages (from nltk) (2022.7.9)\n",
            "Requirement already satisfied: colorama in c:\\users\\darklord\\anaconda3\\lib\\site-packages (from click->nltk) (0.4.6)\n",
            "Note: you may need to restart the kernel to use updated packages.\n"
          ]
        }
      ],
      "source": [
        "pip install nltk"
      ]
    },
    {
      "cell_type": "code",
      "execution_count": 48,
      "metadata": {
        "id": "stATb5A-dN90"
      },
      "outputs": [],
      "source": [
        "import nltk\n",
        "from nltk.stem.porter import PorterStemmer\n",
        "ps=PorterStemmer()\n",
        "def steming(text):\n",
        "  l=[]\n",
        "  for i in text:\n",
        "\n",
        "    l.append(ps.stem(i))\n",
        "  return l\n"
      ]
    },
    {
      "cell_type": "code",
      "execution_count": 49,
      "metadata": {
        "id": "6R8er2yjpFRi"
      },
      "outputs": [],
      "source": [
        "new_df['all_tags']=new_df['all_tags'].apply(steming)"
      ]
    },
    {
      "cell_type": "code",
      "execution_count": 50,
      "metadata": {
        "colab": {
          "base_uri": "https://localhost:8080/",
          "height": 206
        },
        "id": "Rvh9-gtIubCh",
        "outputId": "52834edc-b0ee-47dd-8a96-d665779bd1c2"
      },
      "outputs": [
        {
          "data": {
            "text/html": [
              "<div>\n",
              "<style scoped>\n",
              "    .dataframe tbody tr th:only-of-type {\n",
              "        vertical-align: middle;\n",
              "    }\n",
              "\n",
              "    .dataframe tbody tr th {\n",
              "        vertical-align: top;\n",
              "    }\n",
              "\n",
              "    .dataframe thead th {\n",
              "        text-align: right;\n",
              "    }\n",
              "</style>\n",
              "<table border=\"1\" class=\"dataframe\">\n",
              "  <thead>\n",
              "    <tr style=\"text-align: right;\">\n",
              "      <th></th>\n",
              "      <th>id</th>\n",
              "      <th>title</th>\n",
              "      <th>urls</th>\n",
              "      <th>all_tags</th>\n",
              "    </tr>\n",
              "  </thead>\n",
              "  <tbody>\n",
              "    <tr>\n",
              "      <th>4038</th>\n",
              "      <td>1698</td>\n",
              "      <td>Anatomy</td>\n",
              "      <td>https://www./Anatomy</td>\n",
              "      <td>[medic, student, paula, hen, win, a, place, at...</td>\n",
              "    </tr>\n",
              "    <tr>\n",
              "      <th>3610</th>\n",
              "      <td>13090</td>\n",
              "      <td>Sunshine Cleaning</td>\n",
              "      <td>http://www.sunshinecleaning-themovie.com</td>\n",
              "      <td>[a, singl, mother, and, her, slacker, sister, ...</td>\n",
              "    </tr>\n",
              "    <tr>\n",
              "      <th>4065</th>\n",
              "      <td>360339</td>\n",
              "      <td>Eden</td>\n",
              "      <td>https://www./Eden</td>\n",
              "      <td>[after, their, plane, crash, off, the, coast, ...</td>\n",
              "    </tr>\n",
              "    <tr>\n",
              "      <th>2532</th>\n",
              "      <td>132232</td>\n",
              "      <td>Mama</td>\n",
              "      <td>http://www.mamamovie.com/</td>\n",
              "      <td>[guillermo, del, toro, present, mama,, a, supe...</td>\n",
              "    </tr>\n",
              "    <tr>\n",
              "      <th>2253</th>\n",
              "      <td>128</td>\n",
              "      <td>Princess Mononoke</td>\n",
              "      <td>https://www./PrincessMononoke</td>\n",
              "      <td>[ashitaka,, a, princ, of, the, disappear, ainu...</td>\n",
              "    </tr>\n",
              "  </tbody>\n",
              "</table>\n",
              "</div>"
            ],
            "text/plain": [
              "          id              title                                      urls  \\\n",
              "4038    1698            Anatomy                      https://www./Anatomy   \n",
              "3610   13090  Sunshine Cleaning  http://www.sunshinecleaning-themovie.com   \n",
              "4065  360339               Eden                         https://www./Eden   \n",
              "2532  132232               Mama                 http://www.mamamovie.com/   \n",
              "2253     128  Princess Mononoke             https://www./PrincessMononoke   \n",
              "\n",
              "                                               all_tags  \n",
              "4038  [medic, student, paula, hen, win, a, place, at...  \n",
              "3610  [a, singl, mother, and, her, slacker, sister, ...  \n",
              "4065  [after, their, plane, crash, off, the, coast, ...  \n",
              "2532  [guillermo, del, toro, present, mama,, a, supe...  \n",
              "2253  [ashitaka,, a, princ, of, the, disappear, ainu...  "
            ]
          },
          "execution_count": 50,
          "metadata": {},
          "output_type": "execute_result"
        }
      ],
      "source": [
        "new_df.sample(5)"
      ]
    },
    {
      "cell_type": "code",
      "execution_count": 51,
      "metadata": {
        "id": "Zkp9OzlUwwj7"
      },
      "outputs": [],
      "source": [
        "new_df[\"all_tags\"]=new_df[\"all_tags\"].apply(_join)"
      ]
    },
    {
      "cell_type": "code",
      "execution_count": 52,
      "metadata": {
        "id": "1rM-EYPBx05R"
      },
      "outputs": [],
      "source": [
        "new_df['all_tags'] = new_df['all_tags'].apply(lambda x: \" \".join(x))"
      ]
    },
    {
      "cell_type": "markdown",
      "metadata": {
        "id": "ifpvLLtjdna7"
      },
      "source": [
        "## vectorization"
      ]
    },
    {
      "cell_type": "code",
      "execution_count": 53,
      "metadata": {
        "id": "SXZFFYlLdUNJ"
      },
      "outputs": [],
      "source": [
        "from sklearn.feature_extraction.text import CountVectorizer\n",
        "cv = CountVectorizer(stop_words='english')"
      ]
    },
    {
      "cell_type": "markdown",
      "metadata": {
        "id": "U-XqKOC-Ki7e"
      },
      "source": []
    },
    {
      "cell_type": "code",
      "execution_count": 54,
      "metadata": {
        "colab": {
          "base_uri": "https://localhost:8080/"
        },
        "id": "T_YLlj7TvWtc",
        "outputId": "3e1dfbda-4e99-4a68-9e7c-d64830ee3bed"
      },
      "outputs": [
        {
          "data": {
            "text/plain": [
              "array([[0, 0, 0, ..., 0, 0, 0],\n",
              "       [0, 0, 0, ..., 0, 0, 0],\n",
              "       [0, 0, 0, ..., 0, 0, 0],\n",
              "       ...,\n",
              "       [0, 0, 0, ..., 0, 0, 0],\n",
              "       [0, 0, 0, ..., 0, 0, 0],\n",
              "       [0, 0, 0, ..., 0, 0, 0]], dtype=int64)"
            ]
          },
          "execution_count": 54,
          "metadata": {},
          "output_type": "execute_result"
        }
      ],
      "source": [
        "data = cv.fit_transform(new_df['all_tags']).toarray()\n",
        "data"
      ]
    },
    {
      "cell_type": "code",
      "execution_count": 55,
      "metadata": {
        "colab": {
          "base_uri": "https://localhost:8080/"
        },
        "id": "c2q1SnKCvzcE",
        "outputId": "b81bb158-d3c6-493b-a33f-6ebd73bd9832"
      },
      "outputs": [
        {
          "data": {
            "text/plain": [
              "array([[1.        , 0.06776309, 0.06862635, ..., 0.03571429, 0.        ,\n",
              "        0.        ],\n",
              "       [0.06776309, 1.        , 0.05063697, ..., 0.01976424, 0.        ,\n",
              "        0.0209427 ],\n",
              "       [0.06862635, 0.05063697, 1.        , ..., 0.02001602, 0.        ,\n",
              "        0.        ],\n",
              "       ...,\n",
              "       [0.03571429, 0.01976424, 0.02001602, ..., 1.        , 0.03311331,\n",
              "        0.03311331],\n",
              "       [0.        , 0.        , 0.        , ..., 0.03311331, 1.        ,\n",
              "        0.07017544],\n",
              "       [0.        , 0.0209427 , 0.        , ..., 0.03311331, 0.07017544,\n",
              "        1.        ]])"
            ]
          },
          "execution_count": 55,
          "metadata": {},
          "output_type": "execute_result"
        }
      ],
      "source": [
        "from sklearn.metrics.pairwise import cosine_similarity\n",
        "similarity = cosine_similarity(data)\n",
        "similarity\n"
      ]
    },
    {
      "cell_type": "code",
      "execution_count": 56,
      "metadata": {
        "id": "7_TZG5JEvcli"
      },
      "outputs": [],
      "source": [
        "def movie_recommend(movie):\n",
        "    index = new_df[new_df['title'] == movie].index[0]\n",
        "    distances = sorted(list(enumerate(similarity[index])),reverse=True,key = lambda x: x[1])\n",
        "    for i in distances[1:8]:\n",
        "\n",
        "      \n",
        "      print(\"{} {}\".format(new_df.iloc[i[0]].title,new_df.iloc[i[0]].urls))"
      ]
    },
    {
      "cell_type": "code",
      "execution_count": 57,
      "metadata": {
        "colab": {
          "base_uri": "https://localhost:8080/"
        },
        "id": "wVnl-FpMyfQ3",
        "outputId": "c16e57fb-0966-4732-d9b6-0a62e57b63d8"
      },
      "outputs": [
        {
          "name": "stdout",
          "output_type": "stream",
          "text": [
            "Aliens https://www./Aliens\n",
            "Aliens vs Predator: Requiem http://www.avp-r.com/\n",
            "Titan A.E. https://www./TitanA.E.\n",
            "Independence Day https://www./IndependenceDay\n",
            "Battle: Los Angeles http://www.battlela.com\n",
            "Meet Dave http://www.meetdavemovie.com/\n",
            "Predators https://www./Predators\n"
          ]
        }
      ],
      "source": [
        "movie_recommend(\"Avatar\")"
      ]
    },
    {
      "cell_type": "code",
      "execution_count": 58,
      "metadata": {
        "colab": {
          "base_uri": "https://localhost:8080/"
        },
        "id": "PJ9YmkZxyodi",
        "outputId": "411341c1-09cd-4d68-cfee-0101dd94aee4"
      },
      "outputs": [
        {
          "name": "stdout",
          "output_type": "stream",
          "text": [
            "Batman https://www./Batman\n",
            "Batman & Robin https://www./Batman&Robin\n",
            "The R.M. http://www.halestormentertainment.com/p_movies_details.asp?mID=jnlppmp8\n",
            "Batman Begins http://www2.warnerbros.com/batmanbegins/index.html\n",
            "Batman Returns https://www./BatmanReturns\n",
            "The Dark Knight http://thedarkknight.warnerbros.com/dvdsite/\n",
            "The Dark Knight Rises http://www.thedarkknightrises.com/\n"
          ]
        }
      ],
      "source": [
        "movie_recommend(\"Batman\")"
      ]
    },
    {
      "cell_type": "code",
      "execution_count": 59,
      "metadata": {
        "colab": {
          "base_uri": "https://localhost:8080/"
        },
        "id": "Ufa99NFDyzWg",
        "outputId": "aa39e1e1-377f-47b6-b951-0adfb31b3cdb"
      },
      "outputs": [
        {
          "name": "stdout",
          "output_type": "stream",
          "text": [
            "Captain America: The Winter Soldier http://www.captainamericathewintersoldiermovie.com\n",
            "Bowling for Columbine http://www.bowlingforcolumbine.com/index.php\n",
            "Captain America: The First Avenger http://captainamerica.marvel.com/\n",
            "The Algerian http://thealgerianmovie.com/\n",
            "Team America: World Police http://www.teamamerica.com\n",
            "Beavis and Butt-Head Do America https://www./BeavisandButt-HeadDoAmerica\n",
            "Nothing But a Man https://www./NothingButaMan\n"
          ]
        }
      ],
      "source": [
        "movie_recommend(\"2016: Obama's America\")"
      ]
    },
    {
      "cell_type": "code",
      "execution_count": 60,
      "metadata": {
        "id": "s6zxxbyc0t6n"
      },
      "outputs": [],
      "source": [
        "import pickle"
      ]
    },
    {
      "cell_type": "code",
      "execution_count": 61,
      "metadata": {
        "id": "TEsdk8he0wTc"
      },
      "outputs": [],
      "source": [
        "pickle.dump(new_df,open(\"movie_recm.pkl\",\"wb\"))\n",
        "pickle.dump(similarity,open(\"similarity.pkl\",\"wb\"))"
      ]
    },
    {
      "cell_type": "code",
      "execution_count": 62,
      "metadata": {
        "colab": {
          "base_uri": "https://localhost:8080/"
        },
        "id": "VXa-CuiRtNxc",
        "outputId": "50f3d6ae-bb3a-4858-f5c4-cf57a48acf98"
      },
      "outputs": [
        {
          "data": {
            "text/plain": [
              "array(['Avatar', \"Pirates of the Caribbean: At World's End\", 'Spectre',\n",
              "       ..., 'Signed, Sealed, Delivered', 'Shanghai Calling',\n",
              "       'My Date with Drew'], dtype=object)"
            ]
          },
          "execution_count": 62,
          "metadata": {},
          "output_type": "execute_result"
        }
      ],
      "source": [
        "np.array(new_df[\"title\"])"
      ]
    }
  ],
  "metadata": {
    "colab": {
      "collapsed_sections": [],
      "name": "movie _recomendation.ipynb",
      "provenance": []
    },
    "kernelspec": {
      "display_name": "base",
      "language": "python",
      "name": "python3"
    },
    "language_info": {
      "codemirror_mode": {
        "name": "ipython",
        "version": 3
      },
      "file_extension": ".py",
      "mimetype": "text/x-python",
      "name": "python",
      "nbconvert_exporter": "python",
      "pygments_lexer": "ipython3",
      "version": "3.9.13 (main, Aug 25 2022, 23:51:50) [MSC v.1916 64 bit (AMD64)]"
    },
    "vscode": {
      "interpreter": {
        "hash": "ba95261038f43809f5603486461b5b4c978be2c88c3aae925ff135051399170a"
      }
    }
  },
  "nbformat": 4,
  "nbformat_minor": 0
}
